{
 "cells": [
  {
   "cell_type": "markdown",
   "metadata": {},
   "source": [
    "# Assignment 1 Report"
   ]
  },
  {
   "cell_type": "markdown",
   "metadata": {},
   "source": [
    "This is an outline for your report to ease the amount of work required to create your report. Jupyter notebook supports markdown, and I recommend you to check out this [cheat sheet](https://github.com/adam-p/markdown-here/wiki/Markdown-Cheatsheet). If you are not familiar with markdown.\n",
    "\n",
    "Before delivery, **remember to convert this file to PDF**. You can do it in two ways:\n",
    "1. Print the webpage (ctrl+P or cmd+P)\n",
    "2. Export with latex. This is somewhat more difficult, but you'll get somehwat of a \"prettier\" PDF. Go to File -> Download as -> PDF via LaTeX. You might have to install nbconvert and pandoc through conda; `conda install nbconvert pandoc`."
   ]
  },
  {
   "cell_type": "markdown",
   "metadata": {},
   "source": [
    "# Task 1"
   ]
  },
  {
   "cell_type": "markdown",
   "metadata": {},
   "source": [
    "## Task 1a) and b)\n",
    "\n",
    "![](task1/Task1ab.jpg)"
   ]
  },
  {
   "cell_type": "markdown",
   "metadata": {},
   "source": [
    "## Task 1c)\n",
    "![](task1/Task1c.jpg)\n"
   ]
  },
  {
   "cell_type": "markdown",
   "metadata": {},
   "source": [
    "# Task 2\n",
    "\n",
    "### Task 2f)\n"
   ]
  },
  {
   "cell_type": "markdown",
   "metadata": {},
   "source": [
    "# Task 3"
   ]
  },
  {
   "cell_type": "markdown",
   "metadata": {},
   "source": [
    "### Task 3a)\n",
    "\n",
    "The filtering operation is called matching strategy. Where the matching strategy is to match the default bounding boxes with IoU (or jaccard overlap) > 0.5\n",
    "to any ground truth.\n",
    "\n",
    "### Task 3b)\n",
    "The statement is false. Feature maps from deeper layers in SSD has lower resolutions.\n",
    "Feature maps with lower resolutions are used to detect larger objects.\n",
    "### Task 3c)\n",
    "Many different objects can appear in any spatial location of an image. Having multiple anchors with different aspect ratios\n",
    "allow detection of a wider range of objects at each location.\n",
    "\n",
    "### Task 3d)\n",
    "The main difference between YOLO and SSD is that SSD adds several feature layers at the end of their backbone network, whereas YOLO has fully connected layers after their backbone network.\n",
    "This allows SSD to make predictions for objects at multiple scales and use lower resolutions to detect objects which increases detection speed.\n",
    "\n",
    "### Task 3e)\n",
    "One anchor location for each cell ==> 38 x 38  anchor locations\n",
    "Six anchors per anchor location ==> Total number of anchors = 38 x 38 x 6 = 8664 anchors\n",
    "### Task 3f)\n",
    "38 x 38 x 6 = 8664 anchors\n",
    "\n",
    "19 x 19 x 6 = 2166 anchors\n",
    "\n",
    "10 x 10 x 6 = 600  anchors\n",
    "\n",
    "5 x 5 x 6 = 150 anchors\n",
    "\n",
    "3 x 3 x 6 = 54 anchors\n",
    "\n",
    "1 x 1 x 6 = 6 anchors\n",
    "\n",
    "==> Total number of anchors  = 11640 anchors\n",
    "\n",
    "\n"
   ]
  },
  {
   "cell_type": "markdown",
   "metadata": {},
   "source": [
    "# Task 4"
   ]
  },
  {
   "cell_type": "markdown",
   "metadata": {},
   "source": [
    "## Task 4b)\n",
    "\n",
    "FILL IN ANSWER. \n",
    "\n",
    "## Task 4c)\n",
    "FILL IN ANSWER. \n",
    "\n",
    "\n",
    "## Task 4d)\n",
    "FILL IN ANSWER. \n",
    "\n",
    "\n",
    "## Task 4e)\n",
    "FILL IN ANSWER. \n",
    "\n",
    "\n",
    "## Task 4f)\n",
    "FILL IN ANSWER. "
   ]
  }
 ],
 "metadata": {
  "kernelspec": {
   "display_name": "Python 3",
   "language": "python",
   "name": "python3"
  },
  "language_info": {
   "codemirror_mode": {
    "name": "ipython",
    "version": 3
   },
   "file_extension": ".py",
   "mimetype": "text/x-python",
   "name": "python",
   "nbconvert_exporter": "python",
   "pygments_lexer": "ipython3",
   "version": "3.8.5"
  }
 },
 "nbformat": 4,
 "nbformat_minor": 4
}