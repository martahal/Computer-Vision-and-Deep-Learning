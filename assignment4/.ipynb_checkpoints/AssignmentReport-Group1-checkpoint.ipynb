{
 "cells": [
  {
   "cell_type": "markdown",
   "metadata": {},
   "source": [
    "# Assignment 1 Report"
   ]
  },
  {
   "cell_type": "markdown",
   "metadata": {},
   "source": [
    "This is an outline for your report to ease the amount of work required to create your report. Jupyter notebook supports markdown, and I recommend you to check out this [cheat sheet](https://github.com/adam-p/markdown-here/wiki/Markdown-Cheatsheet). If you are not familiar with markdown.\n",
    "\n",
    "Before delivery, **remember to convert this file to PDF**. You can do it in two ways:\n",
    "1. Print the webpage (ctrl+P or cmd+P)\n",
    "2. Export with latex. This is somewhat more difficult, but you'll get somehwat of a \"prettier\" PDF. Go to File -> Download as -> PDF via LaTeX. You might have to install nbconvert and pandoc through conda; `conda install nbconvert pandoc`."
   ]
  },
  {
   "cell_type": "markdown",
   "metadata": {},
   "source": [
    "# Task 1"
   ]
  },
  {
   "cell_type": "markdown",
   "metadata": {},
   "source": [
    "## Task 1a) and b)\n",
    "\n",
    "![](task1/Task1ab.jpg)"
   ]
  },
  {
   "cell_type": "markdown",
   "metadata": {},
   "source": [
    "## Task 1c)\n",
    "![](task1/Task1c.jpg)\n"
   ]
  },
  {
   "cell_type": "markdown",
   "metadata": {},
   "source": [
    "# Task 2\n",
    "\n",
    "### Task 2f)\n",
    "![](task2/precision_recall_curve.png)"
   ]
  },
  {
   "cell_type": "markdown",
   "metadata": {},
   "source": [
    "# Task 3"
   ]
  },
  {
   "cell_type": "markdown",
   "metadata": {},
   "source": [
    "### Task 3a)\n",
    "\n",
    "The filtering operation is called matching strategy. Where the matching strategy is to match the default bounding boxes with IoU (or jaccard overlap) > 0.5\n",
    "to any ground truth.\n",
    "\n",
    "### Task 3b)\n",
    "The statement is false. Feature maps from deeper layers in SSD has lower resolutions.\n",
    "Feature maps with lower resolutions are used to detect larger objects.\n",
    "### Task 3c)\n",
    "Many different objects can appear in any spatial location of an image. Having multiple anchors with different aspect ratios\n",
    "allow detection of a wider range of objects at each location.\n",
    "\n",
    "### Task 3d)\n",
    "The main difference between YOLO and SSD is that SSD adds several feature layers at the end of their backbone network, whereas YOLO has fully connected layers after their backbone network.\n",
    "This allows SSD to make predictions for objects at multiple scales and use lower resolutions to detect objects which increases detection speed.\n",
    "\n",
    "### Task 3e)\n",
    "One anchor location for each cell ==> 38 x 38  anchor locations\n",
    "Six anchors per anchor location ==> Total number of anchors = 38 x 38 x 6 = 8664 anchors\n",
    "### Task 3f)\n",
    "38 x 38 x 6 = 8664 anchors\n",
    "\n",
    "19 x 19 x 6 = 2166 anchors\n",
    "\n",
    "10 x 10 x 6 = 600  anchors\n",
    "\n",
    "5 x 5 x 6 = 150 anchors\n",
    "\n",
    "3 x 3 x 6 = 54 anchors\n",
    "\n",
    "1 x 1 x 6 = 6 anchors\n",
    "\n",
    "==> Total number of anchors  = 11640 anchors\n",
    "\n",
    "\n"
   ]
  },
  {
   "cell_type": "markdown",
   "metadata": {},
   "source": [
    "# Task 4"
   ]
  },
  {
   "cell_type": "markdown",
   "metadata": {},
   "source": [
    "## Task 4b)\n",
    "\n",
    "![](task4_plots/total_loss.png)\n",
    "\n",
    "Evaluation performance after 6000 iterations:\n",
    "\n",
    "|Class|Average precision|\n",
    "|:----:|:----------:    |\n",
    "|0 | 0.8059|\n",
    "|1 | 0.6524|\n",
    "|2 | 0.7414|\n",
    "|3 | 0.7819|\n",
    "|4 | 0.7875|\n",
    "|5 | 0.7621|\n",
    "|6 | 0.7845|\n",
    "|7 | 0.7639|\n",
    "|8 | 0.7769|\n",
    "|9 | 0.7341|\n",
    "\n",
    "|mAP|\n",
    "|:----:|\n",
    "|0.7591|\n",
    "\n",
    "\n",
    "## Task 4c) and d)\n",
    "The first improvement was to introduce cyclic learning rate, since this seems like a very effective approach to tuning the learning rate, and has shown great results in [the paper by Leslie N. Smith](https://arxiv.org/abs/1506.01186). We've just implemented a not too sophisticated learning rate scheduler in train.py. We set the scheduler with base_lr = 2e-4, max_lr 2e-1 and mode='triangular2'.\n",
    "\n",
    "![](task4_plots/4d_lr.png)\n",
    "*Here we see the learning rate vary cyclicly with the upper bounds decreasing for each cycle according to the 'triangular2' mode*\n",
    "\n",
    "\n",
    "The second significant improvement was to lower and increase the size range of the two smallest bounding boxes from [30,60] and [60,111] to [10,40] to [40,111]. We credit our fellow students who contributed in [this discussion](https://piazza.com/class/kjvrhk2v4w7pu?cid=248) for proposing this improvement to our training. \n",
    "\n",
    "Another improvement was to replace all ReLU activation functions to ELU activations. We further added parameters by doubling the amount of output channels in each of the layers compared to task 4 a). We also added batch normalization after each convolution layer. \n",
    "\n",
    "We trained the network for 10 000 iterations, but reached the best performance at 9000 iterations. \n",
    "\n",
    "The following tables and figures document our performance after 9000 iterations\n",
    "\n",
    "\n",
    "|Class|Average precision|\n",
    "|:----:|:----------:    |\n",
    "|0| 0.9066|\n",
    "|1| 0.8818|\n",
    "|2| 0.9021|\n",
    "|3| 0.9044|\n",
    "|4| 0.9046|\n",
    "|5| 0.9018|\n",
    "|6| 0.9034|\n",
    "|7| 0.8972|\n",
    "|8| 0.9011|\n",
    "|9| 0.8969|\n",
    "\n",
    "|mAP|\n",
    "|:----:|\n",
    "|0.9000|\n",
    "\n",
    "![](task4_plots/4d_total loss.png)\n",
    "*Total loss for the improved network*\n",
    "\n",
    "\n",
    "\n",
    "## Task 4e)\n",
    "FILL IN ANSWER. \n",
    "\n",
    "\n",
    "## Task 4f)\n",
    "FILL IN ANSWER. "
   ]
  },
  {
   "cell_type": "code",
   "execution_count": null,
   "metadata": {
    "collapsed": false,
    "jupyter": {
     "outputs_hidden": false
    },
    "pycharm": {
     "name": "#%%\n"
    }
   },
   "outputs": [],
   "source": []
  },
  {
   "cell_type": "code",
   "execution_count": null,
   "metadata": {
    "collapsed": false,
    "jupyter": {
     "outputs_hidden": false
    },
    "pycharm": {
     "name": "#%%\n"
    }
   },
   "outputs": [],
   "source": []
  },
  {
   "cell_type": "code",
   "execution_count": null,
   "metadata": {
    "collapsed": false,
    "jupyter": {
     "outputs_hidden": false
    },
    "pycharm": {
     "name": "#%%\n"
    }
   },
   "outputs": [],
   "source": []
  },
  {
   "cell_type": "code",
   "execution_count": null,
   "metadata": {},
   "outputs": [],
   "source": []
  }
 ],
 "metadata": {
  "kernelspec": {
   "display_name": "Python 3",
   "language": "python",
   "name": "python3"
  },
  "language_info": {
   "codemirror_mode": {
    "name": "ipython",
    "version": 3
   },
   "file_extension": ".py",
   "mimetype": "text/x-python",
   "name": "python",
   "nbconvert_exporter": "python",
   "pygments_lexer": "ipython3",
   "version": "3.8.5"
  }
 },
 "nbformat": 4,
 "nbformat_minor": 4
}
