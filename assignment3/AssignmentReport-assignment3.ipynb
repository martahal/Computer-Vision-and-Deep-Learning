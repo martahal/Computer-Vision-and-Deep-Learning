{
 "cells": [
  {
   "cell_type": "markdown",
   "metadata": {},
   "source": [
    "# Assignment 3 Report"
   ]
  },
  {
   "cell_type": "markdown",
   "metadata": {},
   "source": [
    "This is an outline for your report to ease the amount of work required to create your report. Jupyter notebook supports markdown, and I recommend you to check out this [cheat sheet](https://github.com/adam-p/markdown-here/wiki/Markdown-Cheatsheet). If you are not familiar with markdown.\n",
    "\n",
    "Before delivery, **remember to convert this file to PDF**. You can do it in two ways:\n",
    "1. Print the webpage (ctrl+P or cmd+P)\n",
    "2. Export with latex. This is somewhat more difficult, but you'll get somehwat of a \"prettier\" PDF. Go to File -> Download as -> PDF via LaTeX. You might have to install nbconvert and pandoc through conda; `conda install nbconvert pandoc`."
   ]
  },
  {
   "cell_type": "markdown",
   "metadata": {},
   "source": [
    "# Task 1"
   ]
  },
  {
   "cell_type": "markdown",
   "metadata": {},
   "source": [
    "## task 1a)\n",
    "\n"
   ]
  },
  {
   "cell_type": "markdown",
   "metadata": {},
   "source": [
    "## task 1b)\n",
    "\n"
   ]
  },
  {
   "cell_type": "markdown",
   "metadata": {},
   "source": [
    "# Task 2\n",
    "## Task 2a)\n",
    "![](plots/task2_plot.png)\n"
   ]
  },
  {
   "cell_type": "markdown",
   "metadata": {},
   "source": [
    "## Task 2b)\n",
    "Performance for best model:\n",
    "\n",
    "|Training loss:   | Training accuracy: |Validation loss:|Validation accuracy:|Test loss:|Test accuracy:|\n",
    "|:---------------:| :-----------------:|:--------------:|:------------------:|:--------:|:------------:|\n",
    "|0.914|68.2%|0.993|65.6%|0.864|70.5%|\n",
    "\n",
    "\n",
    "\n",
    "\n",
    "I'm actually very surprised that the network reaches its best performance on the test set"
   ]
  },
  {
   "cell_type": "markdown",
   "metadata": {},
   "source": [
    "# Task 3"
   ]
  },
  {
   "cell_type": "markdown",
   "metadata": {},
   "source": [
    "## Task 3a)\n",
    "|Layer |Layer type  | Number of channels/ hidden units  |Activation function|\n",
    "|:----:|:----------:| :-------------------------:|:-------------:    |\n",
    "| 1    |Conv2D      | 32                         | ReLU   |\n",
    "| 2    |Conv2D      | 64                         | ReLU   |\n",
    "| 3    |Conv2D      | 128                        | ReLU   |\n",
    "\n",
    "|Learning rate|Batch size|Optimizer |Weight initialization|Something else|\n",
    "|:----:|:----------:| :-------------------------:|:-------------:    |:----:|\n",
    "|  HGERT |SADFD   | GSDFSD  |HHHJE   | MORRADI|"
   ]
  },
  {
   "cell_type": "markdown",
   "metadata": {
    "pycharm": {
     "name": "#%% md\n"
    }
   },
   "source": [
    "## Task 3b)\n",
    "|Model|Training loss    | Training accuracy  |Validation loss|Validation accuracy|Test loss|Test accuracy|\n",
    "|:---:|:---------------:| :-----------------:|:-------------:|:-----------------:|:-------:|:-----------:|\n",
    "| 1   |dsf|sdf|sdfsd|sdf|ttrer|ffge|\n",
    "| 2   |dsf|sdf|sdfsd|sdf|ttrer|ffge|"
   ]
  },
  {
   "cell_type": "markdown",
   "metadata": {},
   "source": [
    "## Task 3c)\n",
    "Some discussion here"
   ]
  },
  {
   "cell_type": "markdown",
   "metadata": {},
   "source": [
    "## Task 3d)\n",
    "![](plots/improvement_plot.png)"
   ]
  },
  {
   "cell_type": "markdown",
   "metadata": {},
   "source": [
    "## Task 3e)\n",
    "Include plot of great (>80% acc) here"
   ]
  },
  {
   "cell_type": "markdown",
   "metadata": {},
   "source": [
    "## Task 3f)\n",
    "Point out potential overfitting for best model"
   ]
  },
  {
   "cell_type": "markdown",
   "metadata": {},
   "source": [
    "# Task 4"
   ]
  },
  {
   "cell_type": "markdown",
   "metadata": {},
   "source": [
    "## Task 4a)\n",
    "### Hyperparameters\n",
    "|Learning rate|Batch size|Optimizer |eventual data augmentation|Something else|\n",
    "|:----:|:----------:| :-------------------------:|:-------------:    |:----:|\n",
    "|  HGERT |SADFD   | GSDFSD  |HHHJE   | MORRADI|\n",
    "\n",
    "include plot of training and validation loss (like task 2) report test accuracy"
   ]
  },
  {
   "cell_type": "markdown",
   "metadata": {},
   "source": [
    "## Task 4b)\n",
    "Visualization\n"
   ]
  },
  {
   "cell_type": "markdown",
   "metadata": {
    "pycharm": {
     "name": "#%% md\n"
    }
   },
   "source": [
    "## Task 4c)\n",
    "Visualization"
   ]
  },
  {
   "cell_type": "code",
   "execution_count": null,
   "metadata": {},
   "outputs": [],
   "source": []
  }
 ],
 "metadata": {
  "kernelspec": {
   "display_name": "Python 3",
   "language": "python",
   "name": "python3"
  },
  "language_info": {
   "codemirror_mode": {
    "name": "ipython",
    "version": 3
   },
   "file_extension": ".py",
   "mimetype": "text/x-python",
   "name": "python",
   "nbconvert_exporter": "python",
   "pygments_lexer": "ipython3",
   "version": "3.8.5"
  }
 },
 "nbformat": 4,
 "nbformat_minor": 4
}
